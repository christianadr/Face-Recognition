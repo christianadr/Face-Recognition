{
 "cells": [
  {
   "cell_type": "markdown",
   "metadata": {},
   "source": [
    "### 1. Setting up and getting data"
   ]
  },
  {
   "cell_type": "markdown",
   "metadata": {},
   "source": [
    "#### 1.1 Install dependencies and setup"
   ]
  },
  {
   "cell_type": "code",
   "execution_count": 1,
   "metadata": {},
   "outputs": [
    {
     "name": "stdout",
     "output_type": "stream",
     "text": [
      "Requirement already satisfied: labelme in d:\\users\\ainsley\\desktop\\face recognition\\.venv\\lib\\site-packages (5.0.2)\n",
      "Requirement already satisfied: tensorflow in d:\\users\\ainsley\\desktop\\face recognition\\.venv\\lib\\site-packages (2.10.0)\n",
      "Requirement already satisfied: tensorflow-gpu in d:\\users\\ainsley\\desktop\\face recognition\\.venv\\lib\\site-packages (2.10.0)\n",
      "Requirement already satisfied: opencv-python in d:\\users\\ainsley\\desktop\\face recognition\\.venv\\lib\\site-packages (4.6.0.66)\n",
      "Requirement already satisfied: matplotlib in d:\\users\\ainsley\\desktop\\face recognition\\.venv\\lib\\site-packages (3.2.2)\n",
      "Requirement already satisfied: albumentations in d:\\users\\ainsley\\desktop\\face recognition\\.venv\\lib\\site-packages (1.3.0)\n",
      "Requirement already satisfied: imgviz>=0.11 in d:\\users\\ainsley\\desktop\\face recognition\\.venv\\lib\\site-packages (from labelme) (1.5.1)\n",
      "Requirement already satisfied: natsort>=7.1.0 in d:\\users\\ainsley\\desktop\\face recognition\\.venv\\lib\\site-packages (from labelme) (8.2.0)\n",
      "Requirement already satisfied: numpy in d:\\users\\ainsley\\desktop\\face recognition\\.venv\\lib\\site-packages (from labelme) (1.23.3)\n",
      "Requirement already satisfied: Pillow>=2.8 in d:\\users\\ainsley\\desktop\\face recognition\\.venv\\lib\\site-packages (from labelme) (9.2.0)\n",
      "Requirement already satisfied: PyYAML in d:\\users\\ainsley\\desktop\\face recognition\\.venv\\lib\\site-packages (from labelme) (6.0)\n",
      "Requirement already satisfied: qtpy!=1.11.2 in d:\\users\\ainsley\\desktop\\face recognition\\.venv\\lib\\site-packages (from labelme) (2.2.1)\n",
      "Requirement already satisfied: termcolor in d:\\users\\ainsley\\desktop\\face recognition\\.venv\\lib\\site-packages (from labelme) (2.0.1)\n",
      "Requirement already satisfied: colorama in d:\\users\\ainsley\\desktop\\face recognition\\.venv\\lib\\site-packages (from labelme) (0.4.5)\n",
      "Requirement already satisfied: tensorflow-io-gcs-filesystem>=0.23.1 in d:\\users\\ainsley\\desktop\\face recognition\\.venv\\lib\\site-packages (from tensorflow) (0.27.0)\n",
      "Requirement already satisfied: wrapt>=1.11.0 in d:\\users\\ainsley\\desktop\\face recognition\\.venv\\lib\\site-packages (from tensorflow) (1.14.1)\n",
      "Requirement already satisfied: protobuf<3.20,>=3.9.2 in d:\\users\\ainsley\\desktop\\face recognition\\.venv\\lib\\site-packages (from tensorflow) (3.19.6)\n",
      "Requirement already satisfied: gast<=0.4.0,>=0.2.1 in d:\\users\\ainsley\\desktop\\face recognition\\.venv\\lib\\site-packages (from tensorflow) (0.4.0)\n",
      "Requirement already satisfied: flatbuffers>=2.0 in d:\\users\\ainsley\\desktop\\face recognition\\.venv\\lib\\site-packages (from tensorflow) (22.9.24)\n",
      "Requirement already satisfied: six>=1.12.0 in d:\\users\\ainsley\\desktop\\face recognition\\.venv\\lib\\site-packages (from tensorflow) (1.16.0)\n",
      "Requirement already satisfied: libclang>=13.0.0 in d:\\users\\ainsley\\desktop\\face recognition\\.venv\\lib\\site-packages (from tensorflow) (14.0.6)\n",
      "Requirement already satisfied: opt-einsum>=2.3.2 in d:\\users\\ainsley\\desktop\\face recognition\\.venv\\lib\\site-packages (from tensorflow) (3.3.0)\n",
      "Requirement already satisfied: tensorboard<2.11,>=2.10 in d:\\users\\ainsley\\desktop\\face recognition\\.venv\\lib\\site-packages (from tensorflow) (2.10.1)\n",
      "Requirement already satisfied: grpcio<2.0,>=1.24.3 in d:\\users\\ainsley\\desktop\\face recognition\\.venv\\lib\\site-packages (from tensorflow) (1.49.1)\n",
      "Requirement already satisfied: absl-py>=1.0.0 in d:\\users\\ainsley\\desktop\\face recognition\\.venv\\lib\\site-packages (from tensorflow) (1.2.0)\n",
      "Requirement already satisfied: keras<2.11,>=2.10.0 in d:\\users\\ainsley\\desktop\\face recognition\\.venv\\lib\\site-packages (from tensorflow) (2.10.0)\n",
      "Requirement already satisfied: keras-preprocessing>=1.1.1 in d:\\users\\ainsley\\desktop\\face recognition\\.venv\\lib\\site-packages (from tensorflow) (1.1.2)\n",
      "Requirement already satisfied: packaging in d:\\users\\ainsley\\desktop\\face recognition\\.venv\\lib\\site-packages (from tensorflow) (21.3)\n",
      "Requirement already satisfied: tensorflow-estimator<2.11,>=2.10.0 in d:\\users\\ainsley\\desktop\\face recognition\\.venv\\lib\\site-packages (from tensorflow) (2.10.0)\n",
      "Requirement already satisfied: google-pasta>=0.1.1 in d:\\users\\ainsley\\desktop\\face recognition\\.venv\\lib\\site-packages (from tensorflow) (0.2.0)\n",
      "Requirement already satisfied: typing-extensions>=3.6.6 in d:\\users\\ainsley\\desktop\\face recognition\\.venv\\lib\\site-packages (from tensorflow) (4.4.0)\n",
      "Requirement already satisfied: astunparse>=1.6.0 in d:\\users\\ainsley\\desktop\\face recognition\\.venv\\lib\\site-packages (from tensorflow) (1.6.3)\n",
      "Requirement already satisfied: h5py>=2.9.0 in d:\\users\\ainsley\\desktop\\face recognition\\.venv\\lib\\site-packages (from tensorflow) (3.7.0)\n",
      "Requirement already satisfied: setuptools in d:\\users\\ainsley\\desktop\\face recognition\\.venv\\lib\\site-packages (from tensorflow) (58.1.0)\n",
      "Requirement already satisfied: pyparsing!=2.0.4,!=2.1.2,!=2.1.6,>=2.0.1 in d:\\users\\ainsley\\desktop\\face recognition\\.venv\\lib\\site-packages (from matplotlib) (3.0.9)\n",
      "Requirement already satisfied: python-dateutil>=2.1 in d:\\users\\ainsley\\desktop\\face recognition\\.venv\\lib\\site-packages (from matplotlib) (2.8.2)\n",
      "Requirement already satisfied: cycler>=0.10 in d:\\users\\ainsley\\desktop\\face recognition\\.venv\\lib\\site-packages (from matplotlib) (0.11.0)\n",
      "Requirement already satisfied: kiwisolver>=1.0.1 in d:\\users\\ainsley\\desktop\\face recognition\\.venv\\lib\\site-packages (from matplotlib) (1.4.4)\n",
      "Requirement already satisfied: qudida>=0.0.4 in d:\\users\\ainsley\\desktop\\face recognition\\.venv\\lib\\site-packages (from albumentations) (0.0.4)\n",
      "Requirement already satisfied: scikit-image>=0.16.1 in d:\\users\\ainsley\\desktop\\face recognition\\.venv\\lib\\site-packages (from albumentations) (0.19.3)\n",
      "Requirement already satisfied: scipy in d:\\users\\ainsley\\desktop\\face recognition\\.venv\\lib\\site-packages (from albumentations) (1.9.2)\n",
      "Requirement already satisfied: opencv-python-headless>=4.1.1 in d:\\users\\ainsley\\desktop\\face recognition\\.venv\\lib\\site-packages (from albumentations) (4.6.0.66)\n",
      "Requirement already satisfied: wheel<1.0,>=0.23.0 in d:\\users\\ainsley\\desktop\\face recognition\\.venv\\lib\\site-packages (from astunparse>=1.6.0->tensorflow) (0.37.1)\n",
      "Requirement already satisfied: scikit-learn>=0.19.1 in d:\\users\\ainsley\\desktop\\face recognition\\.venv\\lib\\site-packages (from qudida>=0.0.4->albumentations) (1.1.2)\n",
      "Requirement already satisfied: PyWavelets>=1.1.1 in d:\\users\\ainsley\\desktop\\face recognition\\.venv\\lib\\site-packages (from scikit-image>=0.16.1->albumentations) (1.4.1)\n",
      "Requirement already satisfied: tifffile>=2019.7.26 in d:\\users\\ainsley\\desktop\\face recognition\\.venv\\lib\\site-packages (from scikit-image>=0.16.1->albumentations) (2022.10.10)\n",
      "Requirement already satisfied: networkx>=2.2 in d:\\users\\ainsley\\desktop\\face recognition\\.venv\\lib\\site-packages (from scikit-image>=0.16.1->albumentations) (2.8.7)\n",
      "Requirement already satisfied: imageio>=2.4.1 in d:\\users\\ainsley\\desktop\\face recognition\\.venv\\lib\\site-packages (from scikit-image>=0.16.1->albumentations) (2.22.1)\n",
      "Requirement already satisfied: google-auth-oauthlib<0.5,>=0.4.1 in d:\\users\\ainsley\\desktop\\face recognition\\.venv\\lib\\site-packages (from tensorboard<2.11,>=2.10->tensorflow) (0.4.6)\n",
      "Requirement already satisfied: requests<3,>=2.21.0 in d:\\users\\ainsley\\desktop\\face recognition\\.venv\\lib\\site-packages (from tensorboard<2.11,>=2.10->tensorflow) (2.28.1)\n",
      "Requirement already satisfied: tensorboard-data-server<0.7.0,>=0.6.0 in d:\\users\\ainsley\\desktop\\face recognition\\.venv\\lib\\site-packages (from tensorboard<2.11,>=2.10->tensorflow) (0.6.1)\n",
      "Requirement already satisfied: google-auth<3,>=1.6.3 in d:\\users\\ainsley\\desktop\\face recognition\\.venv\\lib\\site-packages (from tensorboard<2.11,>=2.10->tensorflow) (2.12.0)\n",
      "Requirement already satisfied: werkzeug>=1.0.1 in d:\\users\\ainsley\\desktop\\face recognition\\.venv\\lib\\site-packages (from tensorboard<2.11,>=2.10->tensorflow) (2.2.2)\n",
      "Requirement already satisfied: tensorboard-plugin-wit>=1.6.0 in d:\\users\\ainsley\\desktop\\face recognition\\.venv\\lib\\site-packages (from tensorboard<2.11,>=2.10->tensorflow) (1.8.1)\n",
      "Requirement already satisfied: markdown>=2.6.8 in d:\\users\\ainsley\\desktop\\face recognition\\.venv\\lib\\site-packages (from tensorboard<2.11,>=2.10->tensorflow) (3.4.1)\n",
      "Requirement already satisfied: pyasn1-modules>=0.2.1 in d:\\users\\ainsley\\desktop\\face recognition\\.venv\\lib\\site-packages (from google-auth<3,>=1.6.3->tensorboard<2.11,>=2.10->tensorflow) (0.2.8)\n",
      "Requirement already satisfied: rsa<5,>=3.1.4 in d:\\users\\ainsley\\desktop\\face recognition\\.venv\\lib\\site-packages (from google-auth<3,>=1.6.3->tensorboard<2.11,>=2.10->tensorflow) (4.9)\n",
      "Requirement already satisfied: cachetools<6.0,>=2.0.0 in d:\\users\\ainsley\\desktop\\face recognition\\.venv\\lib\\site-packages (from google-auth<3,>=1.6.3->tensorboard<2.11,>=2.10->tensorflow) (5.2.0)\n",
      "Requirement already satisfied: requests-oauthlib>=0.7.0 in d:\\users\\ainsley\\desktop\\face recognition\\.venv\\lib\\site-packages (from google-auth-oauthlib<0.5,>=0.4.1->tensorboard<2.11,>=2.10->tensorflow) (1.3.1)\n",
      "Requirement already satisfied: importlib-metadata>=4.4 in d:\\users\\ainsley\\desktop\\face recognition\\.venv\\lib\\site-packages (from markdown>=2.6.8->tensorboard<2.11,>=2.10->tensorflow) (5.0.0)\n",
      "Requirement already satisfied: certifi>=2017.4.17 in d:\\users\\ainsley\\desktop\\face recognition\\.venv\\lib\\site-packages (from requests<3,>=2.21.0->tensorboard<2.11,>=2.10->tensorflow) (2022.9.24)\n",
      "Requirement already satisfied: charset-normalizer<3,>=2 in d:\\users\\ainsley\\desktop\\face recognition\\.venv\\lib\\site-packages (from requests<3,>=2.21.0->tensorboard<2.11,>=2.10->tensorflow) (2.1.1)\n",
      "Requirement already satisfied: urllib3<1.27,>=1.21.1 in d:\\users\\ainsley\\desktop\\face recognition\\.venv\\lib\\site-packages (from requests<3,>=2.21.0->tensorboard<2.11,>=2.10->tensorflow) (1.26.12)\n",
      "Requirement already satisfied: idna<4,>=2.5 in d:\\users\\ainsley\\desktop\\face recognition\\.venv\\lib\\site-packages (from requests<3,>=2.21.0->tensorboard<2.11,>=2.10->tensorflow) (3.4)\n",
      "Requirement already satisfied: threadpoolctl>=2.0.0 in d:\\users\\ainsley\\desktop\\face recognition\\.venv\\lib\\site-packages (from scikit-learn>=0.19.1->qudida>=0.0.4->albumentations) (3.1.0)\n",
      "Requirement already satisfied: joblib>=1.0.0 in d:\\users\\ainsley\\desktop\\face recognition\\.venv\\lib\\site-packages (from scikit-learn>=0.19.1->qudida>=0.0.4->albumentations) (1.2.0)\n",
      "Requirement already satisfied: MarkupSafe>=2.1.1 in d:\\users\\ainsley\\desktop\\face recognition\\.venv\\lib\\site-packages (from werkzeug>=1.0.1->tensorboard<2.11,>=2.10->tensorflow) (2.1.1)\n",
      "Requirement already satisfied: zipp>=0.5 in d:\\users\\ainsley\\desktop\\face recognition\\.venv\\lib\\site-packages (from importlib-metadata>=4.4->markdown>=2.6.8->tensorboard<2.11,>=2.10->tensorflow) (3.9.0)\n",
      "Requirement already satisfied: pyasn1<0.5.0,>=0.4.6 in d:\\users\\ainsley\\desktop\\face recognition\\.venv\\lib\\site-packages (from pyasn1-modules>=0.2.1->google-auth<3,>=1.6.3->tensorboard<2.11,>=2.10->tensorflow) (0.4.8)\n",
      "Requirement already satisfied: oauthlib>=3.0.0 in d:\\users\\ainsley\\desktop\\face recognition\\.venv\\lib\\site-packages (from requests-oauthlib>=0.7.0->google-auth-oauthlib<0.5,>=0.4.1->tensorboard<2.11,>=2.10->tensorflow) (3.2.1)\n",
      "Note: you may need to restart the kernel to use updated packages.\n"
     ]
    }
   ],
   "source": [
    "%pip install labelme tensorflow tensorflow-gpu opencv-python matplotlib albumentations"
   ]
  },
  {
   "cell_type": "markdown",
   "metadata": {},
   "source": [
    "#### 1.2 Collecting images from webcam"
   ]
  },
  {
   "cell_type": "code",
   "execution_count": 2,
   "metadata": {},
   "outputs": [
    {
     "name": "stdout",
     "output_type": "stream",
     "text": [
      "Modules are imported successfully.\n"
     ]
    }
   ],
   "source": [
    "import os\n",
    "import time\n",
    "import uuid\n",
    "import cv2\n",
    "\n",
    "print('Modules are imported successfully.')"
   ]
  },
  {
   "cell_type": "code",
   "execution_count": 3,
   "metadata": {},
   "outputs": [],
   "source": [
    "# Assign path for collected images\n",
    "IMAGES_PATH = os.path.join('data', 'images')\n",
    "images_num = 30 # collecting 30 images from webcam"
   ]
  },
  {
   "cell_type": "code",
   "execution_count": 4,
   "metadata": {},
   "outputs": [
    {
     "name": "stdout",
     "output_type": "stream",
     "text": [
      "Directory already exists.\n"
     ]
    }
   ],
   "source": [
    "# Check wheter data\\\\images already exists, if not create dir\n",
    "PARENT_DIR = os.getcwd()\n",
    "\n",
    "if not os.path.exists(os.path.join(PARENT_DIR, IMAGES_PATH)):\n",
    "    os.makedirs(os.path.join(PARENT_DIR, IMAGES_PATH))\n",
    "    print('Directory successfully created.')\n",
    "else:\n",
    "    print('Directory already exists.')"
   ]
  },
  {
   "cell_type": "code",
   "execution_count": 7,
   "metadata": {},
   "outputs": [],
   "source": [
    "# Testing camera\n",
    "vid = cv2.VideoCapture(0)\n",
    "\n",
    "while(True):\n",
    "    ret, frame = vid.read()\n",
    "    cv2.imshow('frame', frame)\n",
    "    if cv2.waitKey(1) & 0xFF == ord('q'):\n",
    "        break\n",
    "vid.release()\n",
    "cv2.destroyAllWindows()"
   ]
  },
  {
   "cell_type": "code",
   "execution_count": 10,
   "metadata": {},
   "outputs": [
    {
     "name": "stdout",
     "output_type": "stream",
     "text": [
      "Done collecting images.\r"
     ]
    }
   ],
   "source": [
    "cap = cv2.VideoCapture(0)\n",
    "for num in range(images_num):\n",
    "    print(f'Collecting image {num+1} ...', end = '\\r')\n",
    "    ret, frame = cap.read()\n",
    "    img_name = os.path.join(IMAGES_PATH, f'{str(uuid.uuid1())}.jpg')\n",
    "    cv2.imwrite(img_name, frame)\n",
    "    cv2.imshow('frame', frame)\n",
    "    time.sleep(1)\n",
    "\n",
    "    if cv2.waitKey(1) & 0xFF == ord('q'):\n",
    "        break\n",
    "cap.release()\n",
    "cv2.destroyAllWindows()\n",
    "print(f'Done collecting images', end = '\\r')"
   ]
  },
  {
   "cell_type": "markdown",
   "metadata": {},
   "source": [
    "#### 1.3 Annotate labels using LabelMe"
   ]
  },
  {
   "cell_type": "code",
   "execution_count": 5,
   "metadata": {},
   "outputs": [
    {
     "name": "stdout",
     "output_type": "stream",
     "text": [
      "Directory already exists.\n"
     ]
    }
   ],
   "source": [
    "# Check wheter data\\\\labels already exists, if not create dir\n",
    "LABELS_PATH = os.path.join('data', 'labels')\n",
    "\n",
    "if not os.path.exists(os.path.join(PARENT_DIR, LABELS_PATH)):\n",
    "    os.makedirs(os.path.join(PARENT_DIR, LABELS_PATH))\n",
    "    print('Directory successfully created.')\n",
    "else:\n",
    "    print('Directory already exists.')"
   ]
  },
  {
   "cell_type": "code",
   "execution_count": 6,
   "metadata": {},
   "outputs": [],
   "source": [
    "# Run labelme annotation tool\n",
    "!labelme"
   ]
  },
  {
   "cell_type": "code",
   "execution_count": null,
   "metadata": {},
   "outputs": [],
   "source": []
  }
 ],
 "metadata": {
  "kernelspec": {
   "display_name": "Python 3.9.10 ('.venv': venv)",
   "language": "python",
   "name": "python3"
  },
  "language_info": {
   "codemirror_mode": {
    "name": "ipython",
    "version": 3
   },
   "file_extension": ".py",
   "mimetype": "text/x-python",
   "name": "python",
   "nbconvert_exporter": "python",
   "pygments_lexer": "ipython3",
   "version": "3.9.10"
  },
  "orig_nbformat": 4,
  "vscode": {
   "interpreter": {
    "hash": "902394620363a8a144e9ce61c73f507ae0016b6493886d17f4b4e3a817b3478d"
   }
  }
 },
 "nbformat": 4,
 "nbformat_minor": 2
}
